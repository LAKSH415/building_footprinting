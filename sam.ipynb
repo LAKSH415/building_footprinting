{
 "cells": [
  {
   "cell_type": "code",
   "execution_count": null,
   "id": "2ae094f3",
   "metadata": {
    "vscode": {
     "languageId": "plaintext"
    }
   },
   "outputs": [],
   "source": [
    "from segment_anything import sam_model_registry, SamPredictor\n",
    "import numpy as np\n",
    "import cv2\n",
    "from ultralytics import YOLO\n",
    "import matplotlib.pyplot as plt\n",
    "import os\n",
    "\n",
    "model = YOLO(r\"C:\\Users\\laksh\\Desktop\\dataset\\a\\runs\\detect\\train14\\weights\\best.pt\")\n",
    "\n",
    "test_img_path = r\"C:\\Users\\laksh\\Desktop\\dataset\\a\\dataset\\images\\train\\Lucknow_42880_48640.jpg\"\n",
    "img = cv2.imread(test_img_path)\n",
    "lab = cv2.cvtColor(img, cv2.COLOR_BGR2LAB)\n",
    "l, a, b = cv2.split(lab)\n",
    "clahe = cv2.createCLAHE(clipLimit=3.0, tileGridSize=(8, 8))\n",
    "cl = clahe.apply(l)\n",
    "limg = cv2.merge((cl, a, b))\n",
    "img_rgb = cv2.cvtColor(limg, cv2.COLOR_LAB2RGB)\n",
    "\n",
    "results = model(img_rgb)\n",
    "boxes = results[0].boxes.xyxy.cpu().numpy().astype(int)\n",
    "\n",
    "sam = sam_model_registry[\"vit_h\"](checkpoint=\"sam_vit_h_4b8939.pth\")\n",
    "predictor = SamPredictor(sam)\n",
    "predictor.set_image(img_rgb)\n",
    "\n",
    "masks = []\n",
    "for box in boxes:\n",
    "    x0, y0, x1, y1 = box\n",
    "    input_box = np.array([x0, y0, x1, y1])\n",
    "    mask, scores, _ = predictor.predict(box=input_box, multimask_output=True)\n",
    "    best_idx = np.argmax(scores)\n",
    "    masks.append(mask[best_idx].squeeze())\n",
    "\n",
    "overlay = img_rgb.copy()\n",
    "for m in masks:\n",
    "    overlay[m] = [0, 255, 0]  # Green mask overlay\n",
    "\n",
    "\n",
    "plt.imshow(overlay)\n",
    "plt.axis('off')\n",
    "plt.title(\"YOLOv8 + SAM Segmentation\")\n",
    "plt.show()"
   ]
  }
 ],
 "metadata": {
  "language_info": {
   "name": "python"
  }
 },
 "nbformat": 4,
 "nbformat_minor": 5
}
