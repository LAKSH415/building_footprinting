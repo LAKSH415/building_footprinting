{
 "cells": [
  {
   "cell_type": "code",
   "execution_count": null,
   "id": "1f89b2e8",
   "metadata": {
    "vscode": {
     "languageId": "plaintext"
    }
   },
   "outputs": [],
   "source": [
    "import time\n",
    "import multiprocessing\n",
    "import textwrap\n",
    "from ultralytics import YOLO\n",
    "\n",
    "with open(\"data.yaml\", \"w\") as f:\n",
    "    f.write(textwrap.dedent(\"\"\"\\\n",
    "    path: ../dataset\n",
    "    train: images/train\n",
    "    val: images/val\n",
    "    nc: 1\n",
    "    names: [\"building\"]\n",
    "    \"\"\"))\n",
    "\n",
    "def main():\n",
    "    model = YOLO('yolov8x.pt')  \n",
    "\n",
    "    model.train(\n",
    "        data='data.yaml',\n",
    "        epochs=100,             \n",
    "        imgsz=1024,\n",
    "        batch=16,\n",
    "        device=0,\n",
    "        workers=4,\n",
    "        optimizer='SGD',\n",
    "        patience=10,\n",
    "        save=True,            \n",
    "        save_period=10,       \n",
    "        lr0=0.01,\n",
    "        lrf=0.01,\n",
    "        momentum=0.937,\n",
    "        weight_decay=0.0005,\n",
    "        warmup_epochs=3.0,\n",
    "        warmup_momentum=0.8,\n",
    "        box=7.5,\n",
    "        cls=0.5,\n",
    "        dfl=1.5,\n",
    "        hsv_h=0.015,\n",
    "        hsv_s=0.7,\n",
    "        hsv_v=0.4,\n",
    "        degrees=0.0,\n",
    "        translate=0.1,\n",
    "        scale=0.5,\n",
    "        shear=0.0,\n",
    "        perspective=0.0,\n",
    "        flipud=0.0,\n",
    "        fliplr=0.5,\n",
    "        bgr=0.0,\n",
    "        mosaic=1.0,\n",
    "        mixup=0.0,\n",
    "    )\n",
    "\n",
    "    metrics = model.val()\n",
    "    print(metrics)\n",
    "\n",
    "if __name__ == '__main__':\n",
    "    multiprocessing.freeze_support()\n",
    "    main()\n"
   ]
  }
 ],
 "metadata": {
  "language_info": {
   "name": "python"
  }
 },
 "nbformat": 4,
 "nbformat_minor": 5
}
